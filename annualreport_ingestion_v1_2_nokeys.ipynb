{
  "cells": [
    {
      "cell_type": "markdown",
      "metadata": {
        "id": "view-in-github",
        "colab_type": "text"
      },
      "source": [
        "<a href=\"https://colab.research.google.com/github/EnglishSid/LLMGraphNotebook/blob/main/annualreport_ingestion_v1_2_nokeys.ipynb\" target=\"_parent\"><img src=\"https://colab.research.google.com/assets/colab-badge.svg\" alt=\"Open In Colab\"/></a>"
      ]
    },
    {
      "cell_type": "code",
      "source": [
        "l"
      ],
      "metadata": {
        "id": "eRJpDGChFFHT"
      },
      "id": "eRJpDGChFFHT",
      "execution_count": null,
      "outputs": []
    },
    {
      "cell_type": "markdown",
      "id": "26f65668",
      "metadata": {
        "id": "26f65668"
      },
      "source": [
        "# LLM Powered Annual Report Ingestion\n",
        "## Outline\n",
        "1. Data Cleansing\n",
        "2. Prompt Definition\n",
        "3. Entity & Relationship Extraction\n",
        "4. Neo4j Cypher Generation\n",
        "5. Data Ingestion"
      ]
    },
    {
      "cell_type": "code",
      "execution_count": null,
      "id": "61138c34",
      "metadata": {
        "id": "61138c34"
      },
      "outputs": [],
      "source": [
        "%%capture\n",
        "%pip install graphdatascience\n",
        "%pip install openai\n",
        "%pip install python-dotenv\n",
        "%pip install retry"
      ]
    },
    {
      "cell_type": "code",
      "execution_count": null,
      "id": "c2c97f1b",
      "metadata": {
        "id": "c2c97f1b"
      },
      "outputs": [],
      "source": [
        "import os\n",
        "import openai\n",
        "from retry import retry\n",
        "import re\n",
        "from string import Template\n",
        "import json\n",
        "import ast\n",
        "import time\n",
        "import pandas as pd\n",
        "from graphdatascience import GraphDataScience\n",
        "import glob\n",
        "from timeit import default_timer as timer\n",
        "from dotenv import load_dotenv"
      ]
    },
    {
      "cell_type": "markdown",
      "id": "7d70b41f",
      "metadata": {
        "id": "7d70b41f"
      },
      "source": [
        "## Data Cleansing"
      ]
    },
    {
      "cell_type": "markdown",
      "id": "d89595dc",
      "metadata": {
        "id": "d89595dc"
      },
      "source": [
        "First, let's define a function that can help clean the input data. For the sake of simplicity, lets keep it simple. In the corpus, the data refers to some Figures like scan images. We dont have them and so will remove any such references."
      ]
    },
    {
      "cell_type": "code",
      "execution_count": null,
      "id": "af73c9ce",
      "metadata": {
        "id": "af73c9ce"
      },
      "outputs": [],
      "source": [
        "def clean_text(text):\n",
        "  clean = \"\\n\".join([row for row in text.split(\"\\n\")])\n",
        "  clean = re.sub(r'\\(fig[^)]*\\)', '', clean, flags=re.IGNORECASE)\n",
        "  return clean"
      ]
    },
    {
      "cell_type": "markdown",
      "id": "5326d17d",
      "metadata": {
        "id": "5326d17d"
      },
      "source": [
        "Let's take this case sheet and extract entities and relations using LLM"
      ]
    },
    {
      "cell_type": "code",
      "execution_count": null,
      "id": "09861c5f",
      "metadata": {
        "id": "09861c5f"
      },
      "outputs": [],
      "source": [
        "article_txt = \"\"\"STRATEGIC REPORT\n",
        "\n",
        "Group Chief Executive’s review\n",
        "\n",
        "Alison Rose DBE\n",
        "Group Chief Executive Officer\n",
        "\n",
        "We agreed further measures for 2023 which include a one-off\n",
        "£1,000 cost of living cash payment for c.42,000 colleagues in\n",
        "the UK, Republic of Ireland and Channel Islands, and c.60,000\n",
        "people globally. The 2023 pay proposal also includes a minimum\n",
        "increase of £2,000 for almost all of the colleagues covered by it.\n",
        "Taken together, this will mean that c.80% of lower-paid\n",
        "colleagues covered by our negotiated pay approach will receive\n",
        "an increase, plus a cash payment, equivalent to 10% or more of\n",
        "their fixed pay. In the UK, our rates of pay continue to exceed\n",
        "the ‘Living Wage Foundation’ benchmarks and, for our major\n",
        "hubs outside the UK, we continue to pay above the minimum\n",
        "and living wage rates in the Republic of Ireland as well as\n",
        "exceeding the minimum wage benchmarks in India and Poland.\n",
        "\n",
        "In light of these challenging economic circumstances, we\n",
        "focused on putting in place proactive support to help people,\n",
        "families and businesses to manage, and to help alleviate the\n",
        "financial pressures being felt by those who were most vulnerable.\n",
        "The strength of our balance sheet has allowed us to stand\n",
        "alongside our customers and help them to navigate this\n",
        "heightened uncertainty, as well as delivering a strong financial\n",
        "performance for NatWest Group and value for shareholders.\n",
        "\n",
        "Support for the cost of living\n",
        "We responded quickly and meaningfully, proactively contacting\n",
        "our customers to offer support and information on the cost of\n",
        "living. In addition, we carried out c.0.7 million financial health\n",
        "checks in 2022 and launched our credit score feature in our\n",
        "mobile app to help customers understand their credit score. Our\n",
        "online cost of living hub was also established to share resources\n",
        "and tools, informing customers of the support that is available to\n",
        "them, as well as support through third parties. These measures\n",
        "were in addition to £4 million in donations to provide grants and\n",
        "support, delivered in collaboration with organisations including\n",
        "Citizens Advice, The Trussell Trust, Step Change and PayPlan.\n",
        "As one of the leading banking partners of UK business, we\n",
        "have taken a range of actions on charges, waiving fees on\n",
        "some products where appropriate, including freezing standard\n",
        "published tariffs on Business Current Accounts for 12 months\n",
        "to help SMEs, and offering free card machine hire for new\n",
        "customers on our payment service Tyl.\n",
        "\n",
        "New and emerging social, commercial and economic\n",
        "trends are shaping our customers’ financial lives and there are\n",
        "important opportunities to transform our relevance and value to\n",
        "customers, building on their trust. We will do this by delivering\n",
        "personalised solutions throughout customers’ lifecycles;\n",
        "embedding our services in our customers’ digital lives;\n",
        "and supporting customers’ sustainability transitions.\n",
        "FINANCIAL STATEMENTS\n",
        "\n",
        "Championing the potential of UK\n",
        "businesses is about more than just providing\n",
        "financial backing.\n",
        "\n",
        "RISK AND CAPITAL MANAGEMENT\n",
        "\n",
        "Building strong\n",
        "relationships\n",
        "to help businesses\n",
        "thrive\n",
        "\n",
        "Watch the\n",
        "story online\n",
        "The QR code above directs to a case study video on our 2022 Annual Report webpage.\n",
        "None of the information on that webpage (including the case study video) is, or should be\n",
        "read as being, incorporated by reference into this report.\n",
        "\n",
        "NatWest Group | 2022 Annual Report and Accounts\n",
        "\n",
        "15\n",
        "\n",
        "\n",
        "STRATEGIC REPORT\n",
        "\n",
        "Market environment\n",
        "\n",
        "Adapting to evolving\n",
        "market trends\n",
        "\n",
        "Economy\n",
        "Overview\n",
        "\n",
        "Our response\n",
        "\n",
        "Customers\n",
        "Overview\n",
        "\n",
        "NatWest Group | 2022 Annual Report and Accounts\n",
        "\n",
        "Cyberattacks pose a constant risk to our operations, both in\n",
        "relation to our own digital estate and indirectly with regard\n",
        "to our supply chain. Cybercrime continues to evolve rapidly.\n",
        "Attacks may be from individuals or highly organised criminal\n",
        "groups intent on stealing money or sensitive data, or potentially\n",
        "holding organisations to ransom.\n",
        "Our response\n",
        "We continue to invest significant resources in the development\n",
        "and evolution of cybersecurity controls, to deploy rigorous due\n",
        "diligence with regard to third parties and to work to protect\n",
        "and educate our colleagues and customers on fraud and scam\n",
        "activity. To provide continuity of service for customers with\n",
        "minimal disruption, we monitor and assess a diverse and\n",
        "evolving array of threats, both external and internal, as well\n",
        "as developing, strengthening or adapting existing control\n",
        "capability to be able to absorb and adapt to such disruptions.\n",
        "\n",
        "Technology\n",
        "\n",
        "Climate change\n",
        "\n",
        "Overview\n",
        "\n",
        "Overview\n",
        "\n",
        "New business models and customer behaviours continue\n",
        "to evolve rapidly through advancing technology alongside\n",
        "large-scale societal changes. In the post-pandemic era, we\n",
        "recognise the growing role of technology in everything from\n",
        "digital work environments to the access and delivery of goods\n",
        "and services, including those within the financial sector.\n",
        "\n",
        "Climate change represents an inherent risk to NatWest Group,\n",
        "not only from its impact on the global economy, our customers,\n",
        "suppliers and counterparties, but also through its potential\n",
        "effects on asset values, operational costs and business models\n",
        "as the essential transition to a net-zero economy accelerates.\n",
        "These risks are subject to increasing regulatory, legislative,\n",
        "political and societal change. Conversely, the requirement to\n",
        "reduce carbon emissions also means NatWest Group has a\n",
        "significant role to play in areas such as the provision of\n",
        "climate and sustainable funding and financing.\n",
        "\n",
        "We have remained\n",
        "focused on removing\n",
        "barriers to doing business\n",
        "and providing more\n",
        "opportunities for\n",
        "companies to grow.\n",
        "\n",
        "Geographical split of\n",
        "climate and sustainable\n",
        "funding and financing\n",
        "in 2022(1)\n",
        "\n",
        "£1.2bn\n",
        "\n",
        "£12.3bn\n",
        "\n",
        "Total\n",
        "£24.5bn\n",
        "\n",
        "£11.0bn\n",
        "\n",
        "United Kingdom: £12.3bn\n",
        "Western Europe: £11.0bn\n",
        "Other: £1.2bn\n",
        "\n",
        "(1) Since 1 July 2021, UK £17.8 billion, Western Europe £13.0 billion and Other\n",
        "£1.8 billion. Geography for band issuance is linked to the region of the issuer;\n",
        "for loans it is linked to the region of operation of the borrowing customer.\n",
        "(*) Within the scope of EY assurance. Refer to page 70.\n",
        "\n",
        "Regulation\n",
        "Overview\n",
        "We operate in a highly regulated market which continues\n",
        "to evolve in scope. Areas of current regulatory focus include:\n",
        "delivering good customer outcomes, in particular the Financial\n",
        "Conduct Authority’s (FCA) new requirements for a Consumer\n",
        "Duty, which expands its rules and principles to force firms to\n",
        "provide better consumer protection; operational resilience,\n",
        "in light of the UK authorities’ policy requirements; climate\n",
        "change, and the development of the regulatory framework\n",
        "for sustainable finance; fraud and financial crime, with a focus\n",
        "on protecting customers from ever more sophisticated scams;\n",
        "capital and liquidity management, including the UK’s approach\n",
        "to the implementation of Basel III; the UK’s future regulatory\n",
        "framework, following its exit from the European Union and\n",
        "the opportunities that this provides; digital currencies, with\n",
        "the development of both public (central bank digital currencies)\n",
        "and private (e.g. stablecoins) offerings which have the potential\n",
        "to materially change the digital payments landscape; improving\n",
        "diversity, equity and inclusion in financial services through\n",
        "policy developments focused on improved data collection\n",
        "and reporting, and use of targets for representation.\n",
        "Our response\n",
        "We constantly monitor regulatory change and work with our\n",
        "regulators to help shape those developments that materially\n",
        "impact the bank, lobbying when necessary either bilaterally\n",
        "or in partnership with one of our affiliated industry bodies.\n",
        "We implement new regulatory requirements where applicable\n",
        "and use our frequent engagement meetings with regulators\n",
        "to discuss key regulatory priorities.\n",
        "\n",
        "NatWest Group | 2022 Annual Report and Accounts\n",
        "\n",
        "ADDITIONAL INFORMATION\n",
        "\n",
        "16\n",
        "\n",
        "Overview\n",
        "\n",
        "FINANCIAL STATEMENTS\n",
        "\n",
        "Expectations of banks have shifted markedly in recent years.\n",
        "Customers are wanting banks to deliver a better service:\n",
        "one that is simpler, more relevant and more purposeful.\n",
        "How customers access our products and services has already\n",
        "changed with increasing numbers of customers reaching us\n",
        "online and through our mobile app. The ways people live, work\n",
        "and run businesses are also altering at pace, with the pandemic\n",
        "accelerating the trend towards more digital services, while also\n",
        "seeing a proliferation of ‘side-hustle’ businesses. As well as\n",
        "monitoring these longer-term trends we have also been\n",
        "extremely mindful of the impact of rising prices during 2022\n",
        "and the potential financial distress that this could cause the\n",
        "customers, businesses and communities we serve.\n",
        "\n",
        "Cyber threats\n",
        "\n",
        "RISK AND CAPITAL MANAGEMENT\n",
        "\n",
        "We know the tough economic conditions many of our customers\n",
        "have faced throughout 2022. As such, we have remained\n",
        "focused on removing barriers to doing business and providing\n",
        "more opportunities for companies to grow, helping the economy\n",
        "to build back better through initiatives such as our Accelerator\n",
        "programme, our national and regional SME Taskforce boards\n",
        "and our Business Builder toolkit, as well as supporting young\n",
        "enterprise through our involvement with The Prince’s Trust.\n",
        "\n",
        "In response to the continued increases in the cost of living\n",
        "across the UK, we have put in place a range of targeted\n",
        "measures to support those who are likely to need it most,\n",
        "including proactive contacts to our customers to offer support\n",
        "and information. In addition, we carried out c.0.7 million financial\n",
        "health checks in 2022 and launched our credit score feature in\n",
        "our mobile app to help customers understand their credit score.\n",
        "Our online cost of living hub was also established to share\n",
        "resources and tools, informing customers of the support that\n",
        "is available to them, as well as support through third parties.\n",
        "These measures were in addition to £4 million in donations\n",
        "to provide grants and support, delivered in collaboration with\n",
        "organisations including Citizens Advice, The Trussell Trust,\n",
        "Step Change and PayPlan. Meanwhile, as we look ahead to the\n",
        "next phase of our strategy, our future growth will be based on\n",
        "building new forms of relevance and trust with our customers,\n",
        "as well as supporting them through the challenges of today. We\n",
        "have identified three areas for sustainable future growth where\n",
        "we are well placed to do this: delivering personalised solutions\n",
        "throughout our customers’ lifecycles; embedding our services\n",
        "in our customers’ digital lives; and supporting our customers’\n",
        "sustainability transitions.\n",
        "\n",
        "As part of the implementation of its climate ambitions, at\n",
        "NatWest Group’s AGM in April 2022, ordinary shareholders\n",
        "passed an advisory ‘Say on Climate’ resolution. Through the\n",
        "bank’s first climate resolution, the Board asked shareholders to\n",
        "support our strategic direction on climate change, our intention\n",
        "to develop a Climate transition plan and for annual progress\n",
        "reports to be published. 92.58% of votes cast were in favour of\n",
        "the resolution, indicating strong support for our climate strategy.\n",
        "We also became the first UK bank, and one of the largest banks\n",
        "globally to date, to have science-based targets validated by\n",
        "the Science Based Targets initiative (SBTi). These targets,\n",
        "which cover 79% of our lending activities by exposure as at\n",
        "31 December 2019, underpin the initial iteration of our Climate\n",
        "transition plan, which is incorporated within our 2022 Climaterelated Disclosures Report. We provided £24.5 billion(*) climate\n",
        "and sustainable funding and financing in 2022, bringing\n",
        "the cumulative contribution towards our target to provide\n",
        "£100 billion between 1 July 2021 and the end of 2025, to\n",
        "£32.6 billion. As at the end of 2022, we had reduced our direct\n",
        "own operations emissions by 46%, against a 2019 baseline, with\n",
        "a plan to achieve a 50% reduction by 2025. Achievement of our\n",
        "climate ambitions is dependent on timely UK Government policy\n",
        "and technology developments, as well as on our customers\n",
        "and society to respond. At the same time, as a purpose-led\n",
        "organisation, we aim to engage and support our customers’\n",
        "transition to a net-zero economy. Read more in the 2022\n",
        "Climate-related Disclosures Report.\n",
        "\n",
        "GOVERNANCE\n",
        "\n",
        "In 2022, the UK economy continued its recovery from the\n",
        "impact of COVID-19 and lockdown restrictions, with GDP\n",
        "approaching pre-pandemic levels. Russia’s invasion of Ukraine\n",
        "and other global factors led to very large increases in energy\n",
        "costs and other commodities during the year. The resulting\n",
        "high inflation prompted central banks to tighten monetary policy\n",
        "and markets to anticipate significant increases in interest rates,\n",
        "leading to asset market volatility. In the UK the government\n",
        "announced a significant easing of fiscal policy, with measures\n",
        "to protect households from some of the increase in energy\n",
        "prices, as well as support for businesses and a reversal of some\n",
        "planned tax rises. Other countries introduced similar measures\n",
        "through a variety of policies. Sterling fell against the US dollar\n",
        "and the euro. In the longer term, demographic change, climate\n",
        "change, high levels of debt and inequality could all have financial\n",
        "impacts for our customers.\n",
        "\n",
        "Our response\n",
        "\n",
        "Our response\n",
        "\n",
        "We are leveraging technology to deliver value through the\n",
        "lifecycles of our customers. By helping them more and in\n",
        "technologically-embedded ways, our relationships should\n",
        "become closer and deeper, as well as more valuable. We\n",
        "continue to develop new services, based on an understanding of\n",
        "customers’ lives, that more closely fit with what our customers\n",
        "want. Whether this is through new commercial offers that help\n",
        "run invoice management and cash flow analysis, integrated\n",
        "payments solutions or AI-based customer service, each of\n",
        "these innovations is designed to benefit customers, society\n",
        "and the economy, as well as being a driver of long-term\n",
        "sustainable value.\n",
        "\n",
        "\"\"\""
      ]
    },
    {
      "cell_type": "markdown",
      "id": "bd3236df",
      "metadata": {
        "id": "bd3236df"
      },
      "source": [
        "## Prompt Definition"
      ]
    },
    {
      "cell_type": "markdown",
      "id": "45c73e3d",
      "metadata": {
        "id": "45c73e3d"
      },
      "source": [
        "**⚠️** You need to duplicate `config.env.example` file in the left and rename as `config.env`. Edit the values in this file and provide the values for API keys and Neo4j credentials"
      ]
    },
    {
      "cell_type": "code",
      "source": [
        "os.environ[\"OPENAI_API_KEY\"] = 'YOUR KEY'\n",
        "openai.api_key = os.getenv('OPENAI_API_KEY')"
      ],
      "metadata": {
        "id": "IGjag-WrCa57"
      },
      "id": "IGjag-WrCa57",
      "execution_count": null,
      "outputs": []
    },
    {
      "cell_type": "code",
      "execution_count": null,
      "id": "f94b81b2",
      "metadata": {
        "id": "f94b81b2"
      },
      "outputs": [],
      "source": [
        "\n",
        "\n",
        "openai.api_key = os.getenv('OPENAI_API_KEY')"
      ]
    },
    {
      "cell_type": "markdown",
      "id": "ff224199",
      "metadata": {
        "id": "ff224199"
      },
      "source": [
        "This is a helper function to talk to the LLM with our prompt and text input"
      ]
    },
    {
      "cell_type": "code",
      "execution_count": null,
      "id": "1d8592a3",
      "metadata": {
        "id": "1d8592a3"
      },
      "outputs": [],
      "source": [
        "# GPT-4 Prompt to complete\n",
        "@retry(tries=2, delay=5)\n",
        "def process_gpt(system,\n",
        "                prompt):\n",
        "\n",
        "    completion = openai.ChatCompletion.create(\n",
        "        # engine=\"gpt-3.5-turbo\",\n",
        "        model=\"gpt-4\",\n",
        "        max_tokens=2500,\n",
        "        # Try to be as deterministic as possible\n",
        "        temperature=0,\n",
        "        messages=[\n",
        "            {\"role\": \"system\", \"content\": system},\n",
        "            {\"role\": \"user\", \"content\": prompt},\n",
        "        ]\n",
        "    )\n",
        "    nlp_results = completion.choices[0].message.content\n",
        "    return nlp_results"
      ]
    },
    {
      "cell_type": "markdown",
      "id": "a52639cd",
      "metadata": {
        "id": "a52639cd"
      },
      "source": [
        "This is a simple prompt to start with. If the processing is very complex, you can also chain the prompts as and when required. I am going to use a single prompt here that helps me to extract the text strictly as per the Entities and Relationships defined. This is a simplification. In the real scenario, especially with medical records, you have to leverage on Domain experts to define the Ontology systematically and capture the important information. You might also be fine-tuning the model as and when required.\n",
        "\n",
        "Also, instead of one single large model, you can also consider chaining a number of smaller ones as per your needs.\n",
        "\n",
        "We are going with this Graph Schema for our Case Sheet:\n",
        "![schema.png](attachment:d16d5097-785c-4343-8a48-289517fca944.png)"
      ]
    },
    {
      "cell_type": "code",
      "execution_count": null,
      "id": "90379cd1",
      "metadata": {
        "id": "90379cd1"
      },
      "outputs": [],
      "source": [
        "prompt1=\"\"\"From the Annual Report text below, extract the following Entities & relationships described in the mentioned format\n",
        "0. ALWAYS FINISH THE OUTPUT. Never send partial responses\n",
        "1. First, look for these Entity types in the text and generate as comma-separated format similar to entity type.\n",
        "   `id` property of each entity must be alphanumeric and must be unique among the entities. You will be referring this property to define the relationship between entities. Do not create new entity types that aren't mentioned below. Document must be summarized and stored inside Case entity under `summary` property. You will have to generate as many entities as needed as per the types below:\n",
        "    Entity Types:\n",
        "    label:'Paper',id:string,summary:string //Title of the article;`id` property is the title of the paper, in lowercase & camel-case & should always start with an alphabet\n",
        "    label:'Company',id:string,name:string //Name of organisation;`id` property is the name of the company, in lowercase & camel-case & should always start with an alphabet\n",
        "    label:'Person',id:string,name:string //Person mentioned in the text;`id` property is the name of a person, in lowercase & camel-case & should always start with an alphabet;\n",
        "    label:'BusinessTrend',id:string,name:string //any known business term within the text,summary:string //Summary of the trend as defined by openAI;`id` property is the name of the business trend, in lowercase & camel-case & should always start with an alphabet\n",
        "    label:'TechnologyTrend' id:string,name:string //any known technology term within the text,summary:string //Summary of the trend as defined by openAI;`id` property is the name of the technology trend, in lowercase & camel-case & should always start with an alphabet\n",
        "    label:'Risk' id:string,name:string //any known factor which might present a risk to the organisation, summary:string //Summary of the trend as defined by openAI;`id` property is the name of the risk, in lowercase & camel-case & should always start with an alphabet\n",
        "    label:'MA' id:string,name:string //any known mergers or acquisitions completed or planned, summary:string //Summary of the merger or acquisitions as defined by openAI;`id` property is the name of the merger or acquisitions, in lowercase & camel-case & should always start with an alphabet\n",
        "    label:'ExternalFactor' id:string,name:string //any known external factors which might influcence or impact the organisation, summary:string //Summary of the trend as defined by openAI;`id` property is the name of the external factor, in lowercase & camel-case & should always start with an alphabet\n",
        "    label:'Legal'id:string,name:string //any known legal issues which might impact the organisation, summary:string //Summary of the trend as defined by openAI;`id` property is the name of the legal issue, in lowercase & camel-case & should always start with an alphabet\n",
        "\n",
        "3. Next generate each relationships as triples of head, relationship and tail. To refer the head and tail entity, use their respective `id` property. Relationship property should be mentioned within brackets as comma-separated. They should follow these relationship types below. You will have to generate as many relationships as needed as defined below:\n",
        "    Relationship types:\n",
        "    paper|MENTIONS_PERSON|person\n",
        "    paper|MENTIONS_COMPANY|company\n",
        "    company|MENTIONS_COMPANY|person\n",
        "    paper|MENTIONS_BUSINESSTREND|businesstrend\n",
        "    paper|MENTIONS_TECHNOLOGYTREND|technologytrend\n",
        "    paper|MENTIONS_RISK|risk\n",
        "    paper|MENTIONS_MERGER|ma\n",
        "    paper|MENTIONS_EXTERNALFACTOR|externalfactor\n",
        "    paper|MENTIONS_LEGAL|legal\n",
        "    person|ASSOICATED_TO|externalfactor\n",
        "    person|ASSOICATED_TO|ma\n",
        "    person|ASSOICATED_TO|risk\n",
        "    person|ASSOICATED_TO|businesstrend\n",
        "    person|ASSOICATED_TO|technologytrend\n",
        "\n",
        "\n",
        "The output should look like :\n",
        "{\n",
        "    \"entities\": [{\"label\":\"Paper\",\"id\":string,\"summary\":string}],\n",
        "    \"relationships\": [\"paper|MENTIONS_PERSON|businesstrend\"]\n",
        "}\n",
        "\n",
        "Case Sheet:\n",
        "$ctext\n",
        "\"\"\""
      ]
    },
    {
      "cell_type": "markdown",
      "id": "a6a20e1c",
      "metadata": {
        "id": "a6a20e1c"
      },
      "source": [
        "Let's run our completion task with our LLM"
      ]
    },
    {
      "cell_type": "code",
      "execution_count": null,
      "id": "98cbafb5",
      "metadata": {
        "colab": {
          "base_uri": "https://localhost:8080/"
        },
        "id": "98cbafb5",
        "outputId": "a600e4d3-9427-4dca-a7fa-2a629d97b944"
      },
      "outputs": [
        {
          "output_type": "stream",
          "name": "stdout",
          "text": [
            "CPU times: user 471 ms, sys: 47.2 ms, total: 518 ms\n",
            "Wall time: 1min 12s\n"
          ]
        }
      ],
      "source": [
        "%%time\n",
        "def run_completion(prompt, results, ctext):\n",
        "    try:\n",
        "      system = \"You are a helpful business analyst who extracts relevant information and store them on a Neo4j Knowledge Graph\"\n",
        "      pr = Template(prompt).substitute(ctext=ctext)\n",
        "      res = process_gpt(system, pr)\n",
        "      results.append(json.loads(res.replace(\"\\'\", \"'\")))\n",
        "      return results\n",
        "    except Exception as e:\n",
        "        print(e)\n",
        "\n",
        "prompts = [prompt1]\n",
        "results = []\n",
        "for p in prompts:\n",
        "  results = run_completion(p, results, clean_text(article_txt))\n"
      ]
    },
    {
      "cell_type": "code",
      "source": [
        "results"
      ],
      "metadata": {
        "colab": {
          "base_uri": "https://localhost:8080/"
        },
        "id": "AamYyrvGbr66",
        "outputId": "c71f721a-f1ca-4dd3-b3ea-80be9e7fecce"
      },
      "id": "AamYyrvGbr66",
      "execution_count": null,
      "outputs": [
        {
          "output_type": "execute_result",
          "data": {
            "text/plain": [
              "[{'entities': [{'label': 'Paper',\n",
              "    'id': 'strategicReport',\n",
              "    'summary': \"The strategic report discusses the performance of NatWest Group in 2022, highlighting the company's response to economic challenges, its focus on customer support, and its commitment to sustainability and technological advancement.\"},\n",
              "   {'label': 'Company', 'id': 'natwestGroup', 'name': 'NatWest Group'},\n",
              "   {'label': 'Person', 'id': 'alisonRoseDbe', 'name': 'Alison Rose DBE'},\n",
              "   {'label': 'BusinessTrend', 'id': 'costOfLiving', 'name': 'Cost of Living'},\n",
              "   {'label': 'BusinessTrend',\n",
              "    'id': 'economicRecovery',\n",
              "    'name': 'Economic Recovery'},\n",
              "   {'label': 'TechnologyTrend',\n",
              "    'id': 'cyberSecurity',\n",
              "    'name': 'Cyber Security'},\n",
              "   {'label': 'TechnologyTrend',\n",
              "    'id': 'digitalTransformation',\n",
              "    'name': 'Digital Transformation'},\n",
              "   {'label': 'Risk', 'id': 'cyberAttacks', 'name': 'Cyber Attacks'},\n",
              "   {'label': 'Risk', 'id': 'climateChange', 'name': 'Climate Change'},\n",
              "   {'label': 'MA', 'id': 'none', 'name': 'None'},\n",
              "   {'label': 'ExternalFactor', 'id': 'ukEconomy', 'name': 'UK Economy'},\n",
              "   {'label': 'ExternalFactor',\n",
              "    'id': 'globalEconomy',\n",
              "    'name': 'Global Economy'},\n",
              "   {'label': 'Legal',\n",
              "    'id': 'regulatoryRequirements',\n",
              "    'name': 'Regulatory Requirements'}],\n",
              "  'relationships': ['strategicReport|MENTIONS_PERSON|alisonRoseDbe',\n",
              "   'strategicReport|MENTIONS_COMPANY|natwestGroup',\n",
              "   'strategicReport|MENTIONS_BUSINESSTREND|costOfLiving',\n",
              "   'strategicReport|MENTIONS_BUSINESSTREND|economicRecovery',\n",
              "   'strategicReport|MENTIONS_TECHNOLOGYTREND|cyberSecurity',\n",
              "   'strategicReport|MENTIONS_TECHNOLOGYTREND|digitalTransformation',\n",
              "   'strategicReport|MENTIONS_RISK|cyberAttacks',\n",
              "   'strategicReport|MENTIONS_RISK|climateChange',\n",
              "   'strategicReport|MENTIONS_EXTERNALFACTOR|ukEconomy',\n",
              "   'strategicReport|MENTIONS_EXTERNALFACTOR|globalEconomy',\n",
              "   'strategicReport|MENTIONS_LEGAL|regulatoryRequirements',\n",
              "   'alisonRoseDbe|ASSOICATED_TO|costOfLiving',\n",
              "   'alisonRoseDbe|ASSOICATED_TO|economicRecovery',\n",
              "   'alisonRoseDbe|ASSOICATED_TO|cyberSecurity',\n",
              "   'alisonRoseDbe|ASSOICATED_TO|digitalTransformation',\n",
              "   'alisonRoseDbe|ASSOICATED_TO|cyberAttacks',\n",
              "   'alisonRoseDbe|ASSOICATED_TO|climateChange',\n",
              "   'alisonRoseDbe|ASSOICATED_TO|ukEconomy',\n",
              "   'alisonRoseDbe|ASSOICATED_TO|globalEconomy',\n",
              "   'alisonRoseDbe|ASSOICATED_TO|regulatoryRequirements']}]"
            ]
          },
          "metadata": {},
          "execution_count": 10
        }
      ]
    },
    {
      "cell_type": "markdown",
      "id": "dc40d897",
      "metadata": {
        "id": "dc40d897"
      },
      "source": [
        "## Neo4j Cypher Generation"
      ]
    },
    {
      "cell_type": "markdown",
      "id": "ee2a861f",
      "metadata": {
        "id": "ee2a861f"
      },
      "source": [
        "The entities & relationships we got from the LLM have to be transformed to Cypher so we can ingest into Neo4j"
      ]
    },
    {
      "cell_type": "code",
      "execution_count": null,
      "id": "7b7fe8c3",
      "metadata": {
        "id": "7b7fe8c3"
      },
      "outputs": [],
      "source": [
        "#pre-processing results for uploading into Neo4j - helper function:\n",
        "def get_prop_str(prop_dict, _id):\n",
        "    s = []\n",
        "    for key, val in prop_dict.items():\n",
        "      if key != 'label' and key != 'id':\n",
        "         s.append(_id+\".\"+key+' = \"'+str(val).replace('\\\"', '\"').replace('\"', '\\\"')+'\"')\n",
        "    return ' ON CREATE SET ' + ','.join(s)\n",
        "\n",
        "def get_cypher_compliant_var(_id):\n",
        "    return \"_\"+ re.sub(r'[\\W_]', '', _id)\n",
        "\n",
        "def generate_cypher(in_json):\n",
        "    e_map = {}\n",
        "    e_stmt = []\n",
        "    r_stmt = []\n",
        "    e_stmt_tpl = Template(\"($id:$label{id:'$key'})\")\n",
        "    r_stmt_tpl = Template(\"\"\"\n",
        "      MATCH $src\n",
        "      MATCH $tgt\n",
        "      MERGE ($src_id)-[:$rel]->($tgt_id)\n",
        "    \"\"\")\n",
        "    for obj in in_json:\n",
        "      for j in obj['entities']:\n",
        "          props = ''\n",
        "          label = j['label']\n",
        "          id = j['id']\n",
        "          if label == 'Case':\n",
        "                id = 'c'+str(time.time_ns())\n",
        "          elif label == 'Person':\n",
        "                id = 'p'+str(time.time_ns())\n",
        "          varname = get_cypher_compliant_var(j['id'])\n",
        "          stmt = e_stmt_tpl.substitute(id=varname, label=label, key=id)\n",
        "          e_map[varname] = stmt\n",
        "          e_stmt.append('MERGE '+ stmt + get_prop_str(j, varname))\n",
        "\n",
        "      for st in obj['relationships']:\n",
        "          rels = st.split(\"|\")\n",
        "          src_id = get_cypher_compliant_var(rels[0].strip())\n",
        "          rel = rels[1].strip()\n",
        "          tgt_id = get_cypher_compliant_var(rels[2].strip())\n",
        "          stmt = r_stmt_tpl.substitute(\n",
        "              src_id=src_id, tgt_id=tgt_id, src=e_map[src_id], tgt=e_map[tgt_id], rel=rel)\n",
        "\n",
        "          r_stmt.append(stmt)\n",
        "\n",
        "    return e_stmt, r_stmt"
      ]
    },
    {
      "cell_type": "code",
      "execution_count": null,
      "id": "34f74bf0",
      "metadata": {
        "id": "34f74bf0"
      },
      "outputs": [],
      "source": [
        "ent_cyp, rel_cyp = generate_cypher(results)"
      ]
    },
    {
      "cell_type": "code",
      "source": [
        "ent_cyp"
      ],
      "metadata": {
        "colab": {
          "base_uri": "https://localhost:8080/"
        },
        "id": "a8zDIAjYcDfH",
        "outputId": "0b86b4a9-6280-476f-fea7-fe404b25f612"
      },
      "id": "a8zDIAjYcDfH",
      "execution_count": null,
      "outputs": [
        {
          "output_type": "execute_result",
          "data": {
            "text/plain": [
              "['MERGE (_strategicReport:Paper{id:\\'strategicReport\\'}) ON CREATE SET _strategicReport.summary = \"The strategic report discusses the performance of NatWest Group in 2022, highlighting the company\\'s response to economic challenges, its focus on customer support, and its commitment to sustainability and technological advancement.\"',\n",
              " 'MERGE (_natwestGroup:Company{id:\\'natwestGroup\\'}) ON CREATE SET _natwestGroup.name = \"NatWest Group\"',\n",
              " 'MERGE (_alisonRoseDbe:Person{id:\\'p1698071030343446453\\'}) ON CREATE SET _alisonRoseDbe.name = \"Alison Rose DBE\"',\n",
              " 'MERGE (_costOfLiving:BusinessTrend{id:\\'costOfLiving\\'}) ON CREATE SET _costOfLiving.name = \"Cost of Living\"',\n",
              " 'MERGE (_economicRecovery:BusinessTrend{id:\\'economicRecovery\\'}) ON CREATE SET _economicRecovery.name = \"Economic Recovery\"',\n",
              " 'MERGE (_cyberSecurity:TechnologyTrend{id:\\'cyberSecurity\\'}) ON CREATE SET _cyberSecurity.name = \"Cyber Security\"',\n",
              " 'MERGE (_digitalTransformation:TechnologyTrend{id:\\'digitalTransformation\\'}) ON CREATE SET _digitalTransformation.name = \"Digital Transformation\"',\n",
              " 'MERGE (_cyberAttacks:Risk{id:\\'cyberAttacks\\'}) ON CREATE SET _cyberAttacks.name = \"Cyber Attacks\"',\n",
              " 'MERGE (_climateChange:Risk{id:\\'climateChange\\'}) ON CREATE SET _climateChange.name = \"Climate Change\"',\n",
              " 'MERGE (_none:MA{id:\\'none\\'}) ON CREATE SET _none.name = \"None\"',\n",
              " 'MERGE (_ukEconomy:ExternalFactor{id:\\'ukEconomy\\'}) ON CREATE SET _ukEconomy.name = \"UK Economy\"',\n",
              " 'MERGE (_globalEconomy:ExternalFactor{id:\\'globalEconomy\\'}) ON CREATE SET _globalEconomy.name = \"Global Economy\"',\n",
              " 'MERGE (_regulatoryRequirements:Legal{id:\\'regulatoryRequirements\\'}) ON CREATE SET _regulatoryRequirements.name = \"Regulatory Requirements\"']"
            ]
          },
          "metadata": {},
          "execution_count": 14
        }
      ]
    },
    {
      "cell_type": "markdown",
      "id": "13588341",
      "metadata": {
        "id": "13588341"
      },
      "source": [
        "## Data Ingestion"
      ]
    },
    {
      "cell_type": "markdown",
      "source": [
        "Here I created an empty instance within AuraDS Enterprise and grabbed the connection details"
      ],
      "metadata": {
        "id": "Aago6pfwBpgy"
      },
      "id": "Aago6pfwBpgy"
    },
    {
      "cell_type": "code",
      "execution_count": null,
      "id": "beacbd25",
      "metadata": {
        "id": "beacbd25"
      },
      "outputs": [],
      "source": [
        "connectionUrl = os.getenv('neo4j+s://hostname')\n",
        "username = os.getenv('USERNAME')\n",
        "password = os.getenv('YOUR PASSWORD')"
      ]
    },
    {
      "cell_type": "code",
      "source": [
        "#Get your Sandbox credentials and enter them here below\n",
        "\n",
        "connectionUrl = 'neo4j+s://hostname'\n",
        "username = 'USERNAME'\n",
        "password = 'YOUR PASSWORD'"
      ],
      "metadata": {
        "id": "p_ZlsuLtcj8C"
      },
      "id": "p_ZlsuLtcj8C",
      "execution_count": null,
      "outputs": []
    },
    {
      "cell_type": "code",
      "execution_count": null,
      "id": "bfe9acfc",
      "metadata": {
        "colab": {
          "base_uri": "https://localhost:8080/",
          "height": 35
        },
        "id": "bfe9acfc",
        "outputId": "c86ab9d7-e356-42c3-9be1-f7acceecfe90"
      },
      "outputs": [
        {
          "output_type": "execute_result",
          "data": {
            "text/plain": [
              "'2.4.7+36'"
            ],
            "application/vnd.google.colaboratory.intrinsic+json": {
              "type": "string"
            }
          },
          "metadata": {},
          "execution_count": 17
        }
      ],
      "source": [
        "gds = GraphDataScience(connectionUrl, auth=(username, password))\n",
        "gds.version()"
      ]
    },
    {
      "cell_type": "markdown",
      "id": "cd579588",
      "metadata": {
        "id": "cd579588"
      },
      "source": [
        "Before loading the data, create constraints as below"
      ]
    },
    {
      "cell_type": "code",
      "execution_count": null,
      "id": "f1d546fd",
      "metadata": {
        "colab": {
          "base_uri": "https://localhost:8080/",
          "height": 53
        },
        "id": "f1d546fd",
        "outputId": "910b0a31-0c33-4ba5-a8b8-2bde930abe54"
      },
      "outputs": [
        {
          "output_type": "execute_result",
          "data": {
            "text/plain": [
              "Empty DataFrame\n",
              "Columns: []\n",
              "Index: []"
            ],
            "text/html": [
              "\n",
              "  <div id=\"df-e12b870f-2fe4-4dca-8379-ade29eb59fa4\" class=\"colab-df-container\">\n",
              "    <div>\n",
              "<style scoped>\n",
              "    .dataframe tbody tr th:only-of-type {\n",
              "        vertical-align: middle;\n",
              "    }\n",
              "\n",
              "    .dataframe tbody tr th {\n",
              "        vertical-align: top;\n",
              "    }\n",
              "\n",
              "    .dataframe thead th {\n",
              "        text-align: right;\n",
              "    }\n",
              "</style>\n",
              "<table border=\"1\" class=\"dataframe\">\n",
              "  <thead>\n",
              "    <tr style=\"text-align: right;\">\n",
              "      <th></th>\n",
              "    </tr>\n",
              "  </thead>\n",
              "  <tbody>\n",
              "  </tbody>\n",
              "</table>\n",
              "</div>\n",
              "    <div class=\"colab-df-buttons\">\n",
              "\n",
              "  <div class=\"colab-df-container\">\n",
              "    <button class=\"colab-df-convert\" onclick=\"convertToInteractive('df-e12b870f-2fe4-4dca-8379-ade29eb59fa4')\"\n",
              "            title=\"Convert this dataframe to an interactive table.\"\n",
              "            style=\"display:none;\">\n",
              "\n",
              "  <svg xmlns=\"http://www.w3.org/2000/svg\" height=\"24px\" viewBox=\"0 -960 960 960\">\n",
              "    <path d=\"M120-120v-720h720v720H120Zm60-500h600v-160H180v160Zm220 220h160v-160H400v160Zm0 220h160v-160H400v160ZM180-400h160v-160H180v160Zm440 0h160v-160H620v160ZM180-180h160v-160H180v160Zm440 0h160v-160H620v160Z\"/>\n",
              "  </svg>\n",
              "    </button>\n",
              "\n",
              "  <style>\n",
              "    .colab-df-container {\n",
              "      display:flex;\n",
              "      gap: 12px;\n",
              "    }\n",
              "\n",
              "    .colab-df-convert {\n",
              "      background-color: #E8F0FE;\n",
              "      border: none;\n",
              "      border-radius: 50%;\n",
              "      cursor: pointer;\n",
              "      display: none;\n",
              "      fill: #1967D2;\n",
              "      height: 32px;\n",
              "      padding: 0 0 0 0;\n",
              "      width: 32px;\n",
              "    }\n",
              "\n",
              "    .colab-df-convert:hover {\n",
              "      background-color: #E2EBFA;\n",
              "      box-shadow: 0px 1px 2px rgba(60, 64, 67, 0.3), 0px 1px 3px 1px rgba(60, 64, 67, 0.15);\n",
              "      fill: #174EA6;\n",
              "    }\n",
              "\n",
              "    .colab-df-buttons div {\n",
              "      margin-bottom: 4px;\n",
              "    }\n",
              "\n",
              "    [theme=dark] .colab-df-convert {\n",
              "      background-color: #3B4455;\n",
              "      fill: #D2E3FC;\n",
              "    }\n",
              "\n",
              "    [theme=dark] .colab-df-convert:hover {\n",
              "      background-color: #434B5C;\n",
              "      box-shadow: 0px 1px 3px 1px rgba(0, 0, 0, 0.15);\n",
              "      filter: drop-shadow(0px 1px 2px rgba(0, 0, 0, 0.3));\n",
              "      fill: #FFFFFF;\n",
              "    }\n",
              "  </style>\n",
              "\n",
              "    <script>\n",
              "      const buttonEl =\n",
              "        document.querySelector('#df-e12b870f-2fe4-4dca-8379-ade29eb59fa4 button.colab-df-convert');\n",
              "      buttonEl.style.display =\n",
              "        google.colab.kernel.accessAllowed ? 'block' : 'none';\n",
              "\n",
              "      async function convertToInteractive(key) {\n",
              "        const element = document.querySelector('#df-e12b870f-2fe4-4dca-8379-ade29eb59fa4');\n",
              "        const dataTable =\n",
              "          await google.colab.kernel.invokeFunction('convertToInteractive',\n",
              "                                                    [key], {});\n",
              "        if (!dataTable) return;\n",
              "\n",
              "        const docLinkHtml = 'Like what you see? Visit the ' +\n",
              "          '<a target=\"_blank\" href=https://colab.research.google.com/notebooks/data_table.ipynb>data table notebook</a>'\n",
              "          + ' to learn more about interactive tables.';\n",
              "        element.innerHTML = '';\n",
              "        dataTable['output_type'] = 'display_data';\n",
              "        await google.colab.output.renderOutput(dataTable, element);\n",
              "        const docLink = document.createElement('div');\n",
              "        docLink.innerHTML = docLinkHtml;\n",
              "        element.appendChild(docLink);\n",
              "      }\n",
              "    </script>\n",
              "  </div>\n",
              "\n",
              "    </div>\n",
              "  </div>\n"
            ]
          },
          "metadata": {},
          "execution_count": 91
        }
      ],
      "source": [
        "gds.run_cypher('CREATE CONSTRAINT unique_paper_id IF NOT EXISTS FOR (n:Paper) REQUIRE n.id IS UNIQUE')\n",
        "gds.run_cypher('CREATE CONSTRAINT unique_person_id IF NOT EXISTS FOR (n:Person) REQUIRE (n.id) IS UNIQUE')\n",
        "gds.run_cypher('CREATE CONSTRAINT unique_company_id IF NOT EXISTS FOR (n:Company) REQUIRE (n.id) IS UNIQUE')\n",
        "gds.run_cypher('CREATE CONSTRAINT unique_business_trend IF NOT EXISTS FOR (n:BusinessTrend) REQUIRE n.id IS UNIQUE')\n",
        "gds.run_cypher('CREATE CONSTRAINT unique_technology_trend IF NOT EXISTS FOR (n:TechnologyTrend) REQUIRE n.id IS UNIQUE')"
      ]
    },
    {
      "cell_type": "markdown",
      "id": "1435e1c9",
      "metadata": {
        "id": "1435e1c9"
      },
      "source": [
        "Ingest the entities"
      ]
    },
    {
      "cell_type": "code",
      "execution_count": null,
      "id": "df1f033e",
      "metadata": {
        "colab": {
          "base_uri": "https://localhost:8080/"
        },
        "id": "df1f033e",
        "outputId": "036e65d3-2db8-4552-bb6e-f01bc4dca9ed"
      },
      "outputs": [
        {
          "output_type": "stream",
          "name": "stdout",
          "text": [
            "CPU times: user 100 ms, sys: 23.7 ms, total: 124 ms\n",
            "Wall time: 5.73 s\n"
          ]
        }
      ],
      "source": [
        "%%time\n",
        "for e in ent_cyp:\n",
        "    gds.run_cypher(e)\n"
      ]
    },
    {
      "cell_type": "markdown",
      "id": "f52ce15b",
      "metadata": {
        "id": "f52ce15b"
      },
      "source": [
        "Ingest relationships now"
      ]
    },
    {
      "cell_type": "code",
      "execution_count": null,
      "id": "684c1282",
      "metadata": {
        "colab": {
          "base_uri": "https://localhost:8080/"
        },
        "id": "684c1282",
        "outputId": "c16ff05a-5802-40c4-91e5-b217b7722fa5"
      },
      "outputs": [
        {
          "output_type": "stream",
          "name": "stdout",
          "text": [
            "CPU times: user 170 ms, sys: 16.8 ms, total: 187 ms\n",
            "Wall time: 9.27 s\n"
          ]
        }
      ],
      "source": [
        "%%time\n",
        "for r in rel_cyp:\n",
        "    gds.run_cypher(r)"
      ]
    },
    {
      "cell_type": "markdown",
      "id": "36ce7424",
      "metadata": {
        "id": "36ce7424"
      },
      "source": [
        "This is a helper function to ingest all case sheets inside the `data/` directory"
      ]
    },
    {
      "cell_type": "code",
      "execution_count": null,
      "id": "a15e3072",
      "metadata": {
        "id": "a15e3072"
      },
      "outputs": [],
      "source": [
        "def run_pipeline(count=191):\n",
        "    txt_files = glob.glob(\"data/*.txt\")[0:count]\n",
        "    print(f\"Running pipeline for {len(txt_files)} files\")\n",
        "    failed_files = process_pipeline(txt_files)\n",
        "    print(failed_files)\n",
        "    return failed_files\n",
        "\n",
        "def process_pipeline(files):\n",
        "    failed_files = []\n",
        "    for f in files:\n",
        "        try:\n",
        "            with open(f, 'r') as file:\n",
        "                print(f\"  {f}: Reading File...\")\n",
        "                data = file.read().rstrip()\n",
        "                text = clean_text(data)\n",
        "                print(f\"    {f}: Extracting E & R\")\n",
        "                results = extract_entities_relationships(f, text)\n",
        "                print(f\"    {f}: Generating Cypher\")\n",
        "                ent_cyp, rel_cyp = generate_cypher(results)\n",
        "                print(f\"    {f}: Ingesting Entities\")\n",
        "                for e in ent_cyp:\n",
        "                    gds.run_cypher(e)\n",
        "                print(f\"    {f}: Ingesting Relationships\")\n",
        "                for r in rel_cyp:\n",
        "                    gds.run_cypher(r)\n",
        "                print(f\"    {f}: Processing DONE\")\n",
        "        except Exception as e:\n",
        "            print(f\"    {f}: Processing Failed with exception {e}\")\n",
        "            failed_files.append(f)\n",
        "    return failed_files\n",
        "\n",
        "def extract_entities_relationships(f, text):\n",
        "    start = timer()\n",
        "    system = \"You are a helpful Medical Case Sheet expert who extracts relevant information and store them on a Neo4j Knowledge Graph\"\n",
        "    prompts = [prompt1]\n",
        "    all_cypher = \"\"\n",
        "    results = []\n",
        "    for p in prompts:\n",
        "      p = Template(p).substitute(ctext=text)\n",
        "      res = process_gpt(system, p)\n",
        "      results.append(json.loads(res))\n",
        "    end = timer()\n",
        "    elapsed = (end-start)\n",
        "    print(f\"    {f}: E & R took {elapsed}secs\")\n",
        "    return results"
      ]
    },
    {
      "cell_type": "code",
      "execution_count": null,
      "id": "92f1ebbe",
      "metadata": {
        "id": "92f1ebbe",
        "colab": {
          "base_uri": "https://localhost:8080/"
        },
        "outputId": "fed19ee2-c39f-41d2-d82d-7034e180fe1f"
      },
      "outputs": [
        {
          "output_type": "stream",
          "name": "stdout",
          "text": [
            "Running pipeline for 0 files\n",
            "[]\n",
            "CPU times: user 1.76 ms, sys: 1.03 ms, total: 2.8 ms\n",
            "Wall time: 2.72 ms\n"
          ]
        }
      ],
      "source": [
        "%%time\n",
        "failed_files = run_pipeline(200)"
      ]
    },
    {
      "cell_type": "markdown",
      "id": "a559333e",
      "metadata": {
        "id": "a559333e"
      },
      "source": [
        "If processing failed for some files due to API Rate limit or some other error, you can retry as below"
      ]
    },
    {
      "cell_type": "code",
      "execution_count": null,
      "id": "39031486",
      "metadata": {
        "id": "39031486",
        "colab": {
          "base_uri": "https://localhost:8080/"
        },
        "outputId": "a31156dc-02d4-40ab-c0e0-e026df6ddd07"
      },
      "outputs": [
        {
          "output_type": "stream",
          "name": "stdout",
          "text": [
            "CPU times: user 19 µs, sys: 3 µs, total: 22 µs\n",
            "Wall time: 26.9 µs\n"
          ]
        },
        {
          "output_type": "execute_result",
          "data": {
            "text/plain": [
              "[]"
            ]
          },
          "metadata": {},
          "execution_count": 42
        }
      ],
      "source": [
        "%%time\n",
        "failed_files = process_pipeline(failed_files)\n",
        "failed_files"
      ]
    },
    {
      "cell_type": "code",
      "execution_count": null,
      "id": "578d93fa",
      "metadata": {
        "id": "578d93fa"
      },
      "outputs": [],
      "source": []
    }
  ],
  "metadata": {
    "environment": {
      "kernel": "python3",
      "name": "common-cpu.m106",
      "type": "gcloud",
      "uri": "gcr.io/deeplearning-platform-release/base-cpu:m106"
    },
    "kernelspec": {
      "display_name": "Python 3",
      "language": "python",
      "name": "python3"
    },
    "language_info": {
      "codemirror_mode": {
        "name": "ipython",
        "version": 3
      },
      "file_extension": ".py",
      "mimetype": "text/x-python",
      "name": "python",
      "nbconvert_exporter": "python",
      "pygments_lexer": "ipython3",
      "version": "3.7.12"
    },
    "colab": {
      "provenance": [],
      "include_colab_link": true
    }
  },
  "nbformat": 4,
  "nbformat_minor": 5
}